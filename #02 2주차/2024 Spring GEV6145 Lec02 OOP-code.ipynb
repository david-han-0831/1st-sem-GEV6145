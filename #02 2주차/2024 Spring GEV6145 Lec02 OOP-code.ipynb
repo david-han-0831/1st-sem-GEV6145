{
 "cells": [
  {
   "cell_type": "code",
   "execution_count": 1,
   "id": "1885a458",
   "metadata": {},
   "outputs": [
    {
     "name": "stdout",
     "output_type": "stream",
     "text": [
      "Hello World\n"
     ]
    }
   ],
   "source": [
    "# page 2:============================================================\n",
    "# create class\n",
    "class Greeting:\n",
    "    def hello (self):    # method(in Java), member function(in C++)\n",
    "        print('Hello World')\n",
    "    def hi (self):\t\n",
    "        print('Hi, there')\n",
    "\n",
    "# create instance\n",
    "a = Greeting( ) \n",
    "\n",
    "# call method\n",
    "a.hello( )"
   ]
  },
  {
   "cell_type": "code",
   "execution_count": 2,
   "id": "e83c6035-583f-4f39-902d-0a3fc6066bf9",
   "metadata": {},
   "outputs": [],
   "source": [
    "# page 3:============================================================\n",
    "\n",
    "# page 4:============================================================"
   ]
  },
  {
   "cell_type": "code",
   "execution_count": 19,
   "id": "0045b326",
   "metadata": {},
   "outputs": [],
   "source": [
    "# page 5:============================================================\n",
    "class Car:\n",
    "    color = \"\"\n",
    "    speed = 0\n",
    "\n",
    "    def upSpeed(self, value):\n",
    "        self.speed += value\n",
    "    \n",
    "    def downSpeed(self, value):\n",
    "        self.speed -= value"
   ]
  },
  {
   "cell_type": "code",
   "execution_count": 20,
   "id": "28b88e66-e068-4c56-9d1e-aa464ea317fe",
   "metadata": {},
   "outputs": [],
   "source": [
    "# page 6:============================================================"
   ]
  },
  {
   "cell_type": "code",
   "execution_count": 21,
   "id": "3bd4c535",
   "metadata": {},
   "outputs": [],
   "source": [
    "# page 7:============================================================\n",
    "myCar1 = Car( )\n",
    "myCar2 = Car( )\n",
    "myCar3 = Car( )"
   ]
  },
  {
   "cell_type": "code",
   "execution_count": 22,
   "id": "1c4390c3",
   "metadata": {},
   "outputs": [],
   "source": [
    "# page 8:============================================================\n",
    "myCar1.color = \"red\"\n",
    "myCar1.speed = 0\n",
    "\n",
    "myCar2.color = \"blue\"\n",
    "myCar2.speed = 0\n",
    "\n",
    "myCar3.color = \"yellow\"\n",
    "myCar3.speed = 0"
   ]
  },
  {
   "cell_type": "code",
   "execution_count": 23,
   "id": "0fa2eea1",
   "metadata": {},
   "outputs": [
    {
     "name": "stdout",
     "output_type": "stream",
     "text": [
      "Car1의 색상은 red이며, 현재속도는 30 km입니다.\n",
      "Car2의 색상은 blue이며, 현재속도는 -60 km입니다.\n",
      "Car3의 색상은 yellow이며, 현재속도는 -60 km입니다.\n"
     ]
    }
   ],
   "source": [
    "# page 9:============================================================\n",
    "myCar1.upSpeed(30)\n",
    "print(\"Car1의 색상은 {0}이며, 현재속도는 {1} km입니다.\" .format(myCar1.color, myCar1.speed))\n",
    "\n",
    "myCar2.downSpeed(60)\n",
    "print(\"Car2의 색상은 {0}이며, 현재속도는 {1} km입니다.\" .format(myCar2.color, myCar2.speed))\n",
    "\n",
    "myCar3.downSpeed(60)\n",
    "print(\"Car3의 색상은 {0}이며, 현재속도는 {1} km입니다.\" .format(myCar3.color, myCar3.speed))"
   ]
  },
  {
   "cell_type": "code",
   "execution_count": 27,
   "id": "047a5d81-5144-4ded-b12b-76dc16ad087e",
   "metadata": {},
   "outputs": [],
   "source": [
    "class Car:\n",
    "    color = \"black\"  # class variable와 instance variable 구별을 위해 삽입한 것입니다.\n",
    "    speed = 15       # color, speed: class variable 필요없음.\n",
    "    def __init__(self, clr, spd):\n",
    "        self.color = clr\n",
    "        self.speed = spd\n",
    "\n",
    "    def upSpeed(self, value):\n",
    "        self.speed += value\n",
    "    \n",
    "    def downSpeed(self, value):\n",
    "        self.speed -= value"
   ]
  },
  {
   "cell_type": "code",
   "execution_count": 28,
   "id": "4ebe9b7b-7586-441d-8edd-38cd8e68d224",
   "metadata": {},
   "outputs": [],
   "source": [
    "myCar1 = Car(\"red\", 0)\n",
    "myCar2 = Car(\"blue\",0)\n",
    "myCar3 = Car(\"yellow\",0)"
   ]
  },
  {
   "cell_type": "code",
   "execution_count": 29,
   "id": "de3a8f22-f29c-4821-9d30-8e094b8b462a",
   "metadata": {},
   "outputs": [
    {
     "name": "stdout",
     "output_type": "stream",
     "text": [
      "Car1의 색상은 red이며, 현재속도는 30 km입니다.\n",
      "Car2의 색상은 blue이며, 현재속도는 -60 km입니다.\n",
      "Car3의 색상은 yellow이며, 현재속도는 -60 km입니다.\n"
     ]
    }
   ],
   "source": [
    "myCar1.upSpeed(30)\n",
    "print(\"Car1의 색상은 {0}이며, 현재속도는 {1} km입니다.\" .format(myCar1.color, myCar1.speed))\n",
    "\n",
    "myCar2.downSpeed(60)\n",
    "print(\"Car2의 색상은 {0}이며, 현재속도는 {1} km입니다.\" .format(myCar2.color, myCar2.speed))\n",
    "\n",
    "myCar3.downSpeed(60)\n",
    "print(\"Car3의 색상은 {0}이며, 현재속도는 {1} km입니다.\" .format(myCar3.color, myCar3.speed))"
   ]
  },
  {
   "cell_type": "code",
   "execution_count": 30,
   "id": "e4ca938a-0c18-4e27-a4b2-ae2c4676bdcd",
   "metadata": {},
   "outputs": [],
   "source": [
    "Car.color='Gray'"
   ]
  },
  {
   "cell_type": "code",
   "execution_count": 31,
   "id": "71112d90-05b7-4e4f-919f-f0196abf920d",
   "metadata": {},
   "outputs": [
    {
     "name": "stdout",
     "output_type": "stream",
     "text": [
      "Gray\n"
     ]
    }
   ],
   "source": [
    "print(Car.color)"
   ]
  },
  {
   "cell_type": "code",
   "execution_count": 32,
   "id": "e180409e-26c9-4d51-9509-ccfe04361f53",
   "metadata": {},
   "outputs": [
    {
     "data": {
      "text/plain": [
       "15"
      ]
     },
     "execution_count": 32,
     "metadata": {},
     "output_type": "execute_result"
    }
   ],
   "source": [
    "Car.speed"
   ]
  },
  {
   "cell_type": "code",
   "execution_count": 33,
   "id": "ea996449-97fa-4704-bb0f-136332a56eca",
   "metadata": {},
   "outputs": [
    {
     "data": {
      "text/plain": [
       "'Gray'"
      ]
     },
     "execution_count": 33,
     "metadata": {},
     "output_type": "execute_result"
    }
   ],
   "source": [
    "Car.color"
   ]
  },
  {
   "cell_type": "code",
   "execution_count": 34,
   "id": "8961205c-e47a-4a2a-ae12-e5348dea6b95",
   "metadata": {},
   "outputs": [
    {
     "data": {
      "text/plain": [
       "15"
      ]
     },
     "execution_count": 34,
     "metadata": {},
     "output_type": "execute_result"
    }
   ],
   "source": [
    "myCar1.speed=30\n",
    "Car.speed"
   ]
  },
  {
   "cell_type": "code",
   "execution_count": 35,
   "id": "165b30e2-d577-4589-82ab-4d67a81cf8c5",
   "metadata": {},
   "outputs": [],
   "source": [
    "myCar1.color = \"white\"\n",
    "myCar1.speed = 19\n",
    "\n",
    "myCar2.color = \"green\"\n",
    "myCar2.speed = 20\n",
    "\n",
    "myCar3.color = \"pink\"\n",
    "myCar3.speed = 21"
   ]
  },
  {
   "cell_type": "code",
   "execution_count": 36,
   "id": "a632745d-cebc-4920-aac5-0d479528529d",
   "metadata": {},
   "outputs": [
    {
     "data": {
      "text/plain": [
       "'Gray'"
      ]
     },
     "execution_count": 36,
     "metadata": {},
     "output_type": "execute_result"
    }
   ],
   "source": [
    "Car.color"
   ]
  },
  {
   "cell_type": "code",
   "execution_count": 37,
   "id": "de37acde-0546-4579-9a09-7d9414e9d523",
   "metadata": {},
   "outputs": [
    {
     "data": {
      "text/plain": [
       "15"
      ]
     },
     "execution_count": 37,
     "metadata": {},
     "output_type": "execute_result"
    }
   ],
   "source": [
    "Car.speed"
   ]
  },
  {
   "cell_type": "code",
   "execution_count": 38,
   "id": "dc59b620-d4c6-4acb-b181-42d6c1ad7f63",
   "metadata": {},
   "outputs": [
    {
     "data": {
      "text/plain": [
       "19"
      ]
     },
     "execution_count": 38,
     "metadata": {},
     "output_type": "execute_result"
    }
   ],
   "source": [
    "myCar1.speed"
   ]
  },
  {
   "cell_type": "code",
   "execution_count": 39,
   "id": "a147ced2-499c-4ad0-83e9-44c9d1913ac6",
   "metadata": {},
   "outputs": [
    {
     "data": {
      "text/plain": [
       "'white'"
      ]
     },
     "execution_count": 39,
     "metadata": {},
     "output_type": "execute_result"
    }
   ],
   "source": [
    "myCar1.color"
   ]
  },
  {
   "cell_type": "code",
   "execution_count": 40,
   "id": "775d87c4-5024-4307-b0d9-44fc9038ae4a",
   "metadata": {},
   "outputs": [
    {
     "data": {
      "text/plain": [
       "20"
      ]
     },
     "execution_count": 40,
     "metadata": {},
     "output_type": "execute_result"
    }
   ],
   "source": [
    "myCar2.speed"
   ]
  },
  {
   "cell_type": "code",
   "execution_count": 42,
   "id": "5745ffde-94e6-41d9-a802-4788b5a16505",
   "metadata": {},
   "outputs": [],
   "source": [
    "# page 10:============================================================\n",
    "# define class\n",
    "class Human:\n",
    "    \n",
    "    # define static attributes\n",
    "    def __init__(self, nationality, language):\n",
    "        self.nationality = nationality\n",
    "        self.language = language\n",
    "        \n",
    "    # define method\n",
    "    def speak (self):\n",
    "        print(f'저는 {self.nationality}이고 {self.language}을 사용합니다.')"
   ]
  },
  {
   "cell_type": "code",
   "execution_count": 43,
   "id": "0898a5a1",
   "metadata": {},
   "outputs": [],
   "source": [
    "# create “person1” and ＂person2＂ instances belonging to “Human” class\n",
    "person1 = Human('한국인', 'Korean')\n",
    "person2 = Human('인도인', 'English')"
   ]
  },
  {
   "cell_type": "code",
   "execution_count": 44,
   "id": "d20f804b-ca4a-460d-b0ff-bc1c2819240b",
   "metadata": {},
   "outputs": [
    {
     "name": "stdout",
     "output_type": "stream",
     "text": [
      "저는 한국인이고 Korean을 사용합니다.\n",
      "저는 인도인이고 English을 사용합니다.\n"
     ]
    }
   ],
   "source": [
    "# apply method to each instance\n",
    "person1.speak() # 저는 한국인이고 Korean을 사용합니다.\n",
    "person2.speak() # 저는 인도인이고 English을 사용합니다."
   ]
  },
  {
   "cell_type": "code",
   "execution_count": 45,
   "id": "06ac7224",
   "metadata": {},
   "outputs": [],
   "source": [
    "# page 11:============================================================\n",
    "# define class\n",
    "class Human:    \t\t\t\n",
    "    def __init__(self, nation, language):   # define attribute\n",
    "        self.nation = nation\n",
    "        self.language = language"
   ]
  },
  {
   "cell_type": "code",
   "execution_count": 46,
   "id": "550e9bab-0770-49fb-97d1-85125be4cd10",
   "metadata": {},
   "outputs": [],
   "source": [
    "# Korean을 사용하는 한국인 instance를 생성하였으나, \n",
    "# 데이터 입력 오류임을 인지하고 중국어를 하는 중국인으로 변경합니다.\n",
    "person1 = Human('한국', 'Korean')  # create instance, person1\n",
    "person1.nation = '중국'\t \t # change values of the instance attribute\n",
    "person1.language = '중국어'"
   ]
  },
  {
   "cell_type": "code",
   "execution_count": 47,
   "id": "bbddfe0a-2ce6-450f-a7ee-0b2b569a3c1f",
   "metadata": {},
   "outputs": [],
   "source": [
    "# Hindi를 구사하는 인도인 instance를 생성하였다가, \n",
    "# 사용언어가 잘못되었음을 알고 영어로 변경합니다.\n",
    "person2 = Human('인도', 'Hindi')\t # create instance, person2\n",
    "person2.language = 'English'"
   ]
  },
  {
   "cell_type": "code",
   "execution_count": 48,
   "id": "3e41d278-7284-4591-8570-8323646fd32e",
   "metadata": {},
   "outputs": [],
   "source": [
    "# class 내에 정의된 method가 아닌 speak functoin을 정의합니다.\n",
    "def speak(person):\t\t # define function\n",
    "    print(f'{person.nation}인은 {person.language}를 사용합니다.')"
   ]
  },
  {
   "cell_type": "code",
   "execution_count": 49,
   "id": "0467f250-0590-4448-ab0e-2e06c601bc9b",
   "metadata": {},
   "outputs": [
    {
     "name": "stdout",
     "output_type": "stream",
     "text": [
      "중국인은 중국어를 사용합니다.\n",
      "인도인은 English를 사용합니다.\n"
     ]
    }
   ],
   "source": [
    "# 아래 두 출력 값은 같은 형식으로 출력된다.\n",
    "speak(person1)  # 중국인은 중국어를 사용합니다.\n",
    "speak(person2)  # 인도인은 English를 사용합니다."
   ]
  },
  {
   "cell_type": "code",
   "execution_count": 50,
   "id": "25ad2204-2945-4a02-a240-185fc40e64f2",
   "metadata": {},
   "outputs": [],
   "source": [
    "# page 12:==========================================================="
   ]
  },
  {
   "cell_type": "code",
   "execution_count": 51,
   "id": "04177877",
   "metadata": {},
   "outputs": [
    {
     "name": "stdout",
     "output_type": "stream",
     "text": [
      "Jane\n",
      "John\n"
     ]
    }
   ],
   "source": [
    "# page 13:===========================================================\n",
    "class Student:\n",
    "   school=\"Yonsei University\"\n",
    "\n",
    "   def __init__(self, name, course):\n",
    "      self.name=name\n",
    "      self.course=course\n",
    "\n",
    "Student1 = Student(\"Jane\", \"Java Script\")\n",
    "Student2 = Student(\"John\", \"Python\")\n",
    "\n",
    "print(Student1.name) # Jane\n",
    "print(Student2.name) # John"
   ]
  },
  {
   "cell_type": "code",
   "execution_count": 52,
   "id": "c8fc8859-119e-43a4-aeaa-6d1dbb4501e8",
   "metadata": {},
   "outputs": [
    {
     "name": "stdout",
     "output_type": "stream",
     "text": [
      "Yonsei University\n"
     ]
    }
   ],
   "source": [
    "print(Student1.school)"
   ]
  },
  {
   "cell_type": "code",
   "execution_count": 53,
   "id": "e1a74c4f-1960-42a8-a801-fd87d22ef20e",
   "metadata": {},
   "outputs": [
    {
     "name": "stdout",
     "output_type": "stream",
     "text": [
      "Java Script\n"
     ]
    }
   ],
   "source": [
    "print(Student1.course)"
   ]
  },
  {
   "cell_type": "code",
   "execution_count": 54,
   "id": "3e3f93d5-5fe9-485a-a70f-d10641e74fde",
   "metadata": {},
   "outputs": [
    {
     "name": "stdout",
     "output_type": "stream",
     "text": [
      "Yonsei University\n"
     ]
    }
   ],
   "source": [
    "print(Student2.school)"
   ]
  },
  {
   "cell_type": "code",
   "execution_count": 84,
   "id": "db80aca0-e04c-4213-bb3a-f47a071a2aa9",
   "metadata": {},
   "outputs": [],
   "source": [
    "# page 14:==========================================================="
   ]
  },
  {
   "cell_type": "code",
   "execution_count": 55,
   "id": "971c7acd",
   "metadata": {},
   "outputs": [
    {
     "name": "stdout",
     "output_type": "stream",
     "text": [
      "0\n"
     ]
    }
   ],
   "source": [
    "# page 15:===========================================================\n",
    "class Rectangle:\n",
    "    count = 0 \t\t\t# class attribute\n",
    "       \n",
    "    def __init__(self, width, height): \t# initializer\n",
    "    \t\t\t\t# self : means an instance itself \n",
    "        self.width = width \t# instance attribute\n",
    "        self.height = height \n",
    "        Rectangle.count += 1\t# class_name.class_attribute\n",
    "    \n",
    "    def calcArea(self): \t# method\n",
    "        area = self.width * self.height # example of how to use \"self\"\n",
    "        return area\n",
    "        \n",
    "print(Rectangle.count)"
   ]
  },
  {
   "cell_type": "code",
   "execution_count": 56,
   "id": "bd3cb315",
   "metadata": {},
   "outputs": [
    {
     "name": "stdout",
     "output_type": "stream",
     "text": [
      "마요네즈\n"
     ]
    }
   ],
   "source": [
    "# page 16:===========================================================\n",
    "class Samgak:\t\t\t        # class Samgak\n",
    "    \n",
    "    def __init__(self):\n",
    "        self.sauce = '기본소스' # instance attribute\n",
    "        \n",
    "    def set_sauce(self, sauce_name):\n",
    "        self.sauce = sauce_name\n",
    "        \n",
    "# Tuna Samgak 김밥\n",
    "chamchi = Samgak()\t\t        # instantiation\n",
    "chamchi.set_sauce('마요네즈') \t# call method, set_sauce(chamchi, '마요네즈')\n",
    "\n",
    "print(chamchi.sauce)   \t\t    # result: mayonnaise, instance attribute"
   ]
  },
  {
   "cell_type": "code",
   "execution_count": 57,
   "id": "d9f49809",
   "metadata": {},
   "outputs": [
    {
     "name": "stdout",
     "output_type": "stream",
     "text": [
      "GEV6145\n",
      "Github\n"
     ]
    }
   ],
   "source": [
    "# page 17:===========================================================\n",
    "class Modifiers:\n",
    "    def __init__(self,name):\n",
    "        self.public_member = name\n",
    "\n",
    "mod = Modifiers(\"GEV6145\")\n",
    "print(mod.public_member) \t  # the public attribute\n",
    "\n",
    "mod.public_member = \"Github\"  # changing its value\n",
    "print(mod.public_member)"
   ]
  },
  {
   "cell_type": "code",
   "execution_count": 58,
   "id": "d58151b7",
   "metadata": {},
   "outputs": [
    {
     "name": "stdout",
     "output_type": "stream",
     "text": [
      "입금 후 총 통장 금액은 150000원 입니다.\n"
     ]
    }
   ],
   "source": [
    "# page 18:===========================================================\n",
    "#  private 아닐 때 외부에서 변경 시도 시 정상적으로 변경 됨 \n",
    "class Back_book:\n",
    "    def __init__(self, money):\n",
    "        self.money = money\n",
    "\n",
    "    def deposit(self, plus):\n",
    "        print('입금 후 총 통장 금액은 {0}원 입니다.'.format(self.money))\n",
    "\n",
    "nirsa = Back_book(100000) \n",
    "nirsa.money += 50000\n",
    "nirsa.deposit(0)"
   ]
  },
  {
   "cell_type": "code",
   "execution_count": 59,
   "id": "91166025",
   "metadata": {},
   "outputs": [
    {
     "name": "stdout",
     "output_type": "stream",
     "text": [
      "GEV6145\n"
     ]
    }
   ],
   "source": [
    "# page 19:===========================================================\n",
    "class Modifiers:\n",
    "    def __init__(self,name):\n",
    "        self._protected_member = name # protected attribute\n",
    "       \n",
    "m = Modifiers(\"GEV6145\")\n",
    "print(m._protected_member)"
   ]
  },
  {
   "cell_type": "code",
   "execution_count": 60,
   "id": "7e5fd800-4122-4076-ab40-5427b23aeb40",
   "metadata": {},
   "outputs": [
    {
     "name": "stdout",
     "output_type": "stream",
     "text": [
      "GEL6494\n"
     ]
    }
   ],
   "source": [
    "m._protected_member = 'GEL6494'\n",
    "print(m._protected_member)"
   ]
  },
  {
   "cell_type": "code",
   "execution_count": 61,
   "id": "a0c2cd07",
   "metadata": {},
   "outputs": [],
   "source": [
    "# Example:---------------------------------------------------\n",
    "class Student:\n",
    "    _schoolName = 'Yonsei School' # protected class attribute\n",
    "    \n",
    "    def __init__(self, name, age):\n",
    "        self._name=name   # protected instance attribute\n",
    "        self._age=age     # protected instance attribute"
   ]
  },
  {
   "cell_type": "code",
   "execution_count": 62,
   "id": "cd3c1f67",
   "metadata": {},
   "outputs": [
    {
     "name": "stdout",
     "output_type": "stream",
     "text": [
      "Swati\n",
      "Dipa\n"
     ]
    }
   ],
   "source": [
    "std = Student(\"Swati\", 25)\n",
    "print(std._name)  #'Swati'\n",
    "\n",
    "std._name = 'Dipa'\n",
    "print(std._name)  #'Dipa'"
   ]
  },
  {
   "cell_type": "code",
   "execution_count": 63,
   "id": "733ffc4d",
   "metadata": {},
   "outputs": [],
   "source": [
    "# However, you can define a property using property decorator and make it protected, as shown below.\n",
    "class Student:\n",
    "\tdef __init__(self,name):\n",
    "\t\tself._name = name\n",
    "        \n",
    "\t@property\n",
    "\tdef name(self):\n",
    "\t\treturn self._name\n",
    "        \n",
    "\t@name.setter\n",
    "\tdef name(self,newname):\n",
    "\t\tself._name = newname"
   ]
  },
  {
   "cell_type": "code",
   "execution_count": 64,
   "id": "048968d2",
   "metadata": {},
   "outputs": [
    {
     "name": "stdout",
     "output_type": "stream",
     "text": [
      "Jeff\n",
      "Jeff\n"
     ]
    }
   ],
   "source": [
    "stu = Student(\"Jeff\")\n",
    "print(stu.name)  \n",
    "print(stu._name) "
   ]
  },
  {
   "cell_type": "code",
   "execution_count": 65,
   "id": "d72a15ab",
   "metadata": {},
   "outputs": [
    {
     "name": "stdout",
     "output_type": "stream",
     "text": [
      "Jane\n",
      "Jane\n"
     ]
    }
   ],
   "source": [
    "stu.name = 'Jane'\n",
    "print(stu.name)  #'Jane'\n",
    "print(stu._name) #'Jane'   "
   ]
  },
  {
   "cell_type": "code",
   "execution_count": 66,
   "id": "9ed9b128-bb1a-4bed-9f2b-c172d1faa1ab",
   "metadata": {},
   "outputs": [
    {
     "name": "stdout",
     "output_type": "stream",
     "text": [
      "Thomas\n",
      "Thomas\n"
     ]
    }
   ],
   "source": [
    "stu._name = 'Thomas'\n",
    "print(stu.name)\n",
    "print(stu._name)"
   ]
  },
  {
   "cell_type": "code",
   "execution_count": 102,
   "id": "91a2dc18-39a5-4544-9dca-8f9eac402f76",
   "metadata": {},
   "outputs": [
    {
     "name": "stdout",
     "output_type": "stream",
     "text": [
      "20\n"
     ]
    }
   ],
   "source": [
    "# page 20:===========================================================\n",
    "class MyClass:\n",
    "    def __init__(self):\n",
    "        self.__private_attribute = 20\n",
    "\n",
    "    def print_private_attribute(self):\n",
    "        print(self.__private_attribute)\n",
    "\n",
    "obj = MyClass()\n",
    "obj.print_private_attribute()"
   ]
  },
  {
   "cell_type": "code",
   "execution_count": 103,
   "id": "1260c7f8-e0e9-4bb3-92ef-0d0fd7473589",
   "metadata": {},
   "outputs": [
    {
     "name": "stdout",
     "output_type": "stream",
     "text": [
      "20\n"
     ]
    }
   ],
   "source": [
    "obj.print_private_attribute()"
   ]
  },
  {
   "cell_type": "code",
   "execution_count": 104,
   "id": "745b4aed-c0b7-4320-9330-b86810500733",
   "metadata": {},
   "outputs": [
    {
     "ename": "AttributeError",
     "evalue": "'MyClass' object has no attribute '__private_attribute'",
     "output_type": "error",
     "traceback": [
      "\u001b[1;31m---------------------------------------------------------------------------\u001b[0m",
      "\u001b[1;31mAttributeError\u001b[0m                            Traceback (most recent call last)",
      "Cell \u001b[1;32mIn[104], line 1\u001b[0m\n\u001b[1;32m----> 1\u001b[0m \u001b[38;5;28mprint\u001b[39m(\u001b[43mobj\u001b[49m\u001b[38;5;241;43m.\u001b[39;49m\u001b[43m__private_attribute\u001b[49m)\n",
      "\u001b[1;31mAttributeError\u001b[0m: 'MyClass' object has no attribute '__private_attribute'"
     ]
    }
   ],
   "source": [
    "print(obj.__private_attribute)"
   ]
  },
  {
   "cell_type": "code",
   "execution_count": 106,
   "id": "ead5cac6",
   "metadata": {},
   "outputs": [
    {
     "name": "stdout",
     "output_type": "stream",
     "text": [
      "This is a private method.\n"
     ]
    }
   ],
   "source": [
    "# page 20:===========================================================\n",
    "class Person:\n",
    "    def __init__(self, name, age):\n",
    "        self.name = name\n",
    "        self.age = age\n",
    "    \n",
    "    def __private_method(self):\n",
    "        print('This is a private method.')\n",
    "\n",
    "    def print_obj(self):\n",
    "        self.__private_method()\n",
    "\n",
    "person = Person('John Doe', 30)\n",
    "person.print_obj()"
   ]
  },
  {
   "cell_type": "code",
   "execution_count": 107,
   "id": "dda0f860-06d7-4681-b45b-17588859cc95",
   "metadata": {},
   "outputs": [
    {
     "ename": "AttributeError",
     "evalue": "'Person' object has no attribute '__private_method'",
     "output_type": "error",
     "traceback": [
      "\u001b[1;31m---------------------------------------------------------------------------\u001b[0m",
      "\u001b[1;31mAttributeError\u001b[0m                            Traceback (most recent call last)",
      "Cell \u001b[1;32mIn[107], line 1\u001b[0m\n\u001b[1;32m----> 1\u001b[0m \u001b[43mperson\u001b[49m\u001b[38;5;241;43m.\u001b[39;49m\u001b[43m__private_method\u001b[49m()\n",
      "\u001b[1;31mAttributeError\u001b[0m: 'Person' object has no attribute '__private_method'"
     ]
    }
   ],
   "source": [
    "person.__private_method()"
   ]
  },
  {
   "cell_type": "code",
   "execution_count": 108,
   "id": "43719c18",
   "metadata": {},
   "outputs": [
    {
     "ename": "AttributeError",
     "evalue": "'Back_book' object has no attribute '__money'",
     "output_type": "error",
     "traceback": [
      "\u001b[1;31m---------------------------------------------------------------------------\u001b[0m",
      "\u001b[1;31mAttributeError\u001b[0m                            Traceback (most recent call last)",
      "Cell \u001b[1;32mIn[108], line 10\u001b[0m\n\u001b[0;32m      7\u001b[0m         \u001b[38;5;28mprint\u001b[39m(\u001b[38;5;124m'\u001b[39m\u001b[38;5;124m입금 후 총 통장 금액은 \u001b[39m\u001b[38;5;132;01m{0}\u001b[39;00m\u001b[38;5;124m원 입니다.\u001b[39m\u001b[38;5;124m'\u001b[39m\u001b[38;5;241m.\u001b[39mformat(\u001b[38;5;28mself\u001b[39m\u001b[38;5;241m.\u001b[39m__money))\n\u001b[0;32m      9\u001b[0m nirsa \u001b[38;5;241m=\u001b[39m Back_book(\u001b[38;5;241m100000\u001b[39m) \n\u001b[1;32m---> 10\u001b[0m \u001b[43mnirsa\u001b[49m\u001b[38;5;241;43m.\u001b[39;49m\u001b[43m__money\u001b[49m \u001b[38;5;241m+\u001b[39m\u001b[38;5;241m=\u001b[39m \u001b[38;5;241m50000\u001b[39m \u001b[38;5;66;03m# private 속성을 외부에서 변경 시도 시 에러 발생\u001b[39;00m\n",
      "\u001b[1;31mAttributeError\u001b[0m: 'Back_book' object has no attribute '__money'"
     ]
    }
   ],
   "source": [
    "# page 21:===========================================================\n",
    "## 비공개 속성을 외부에서 변경 시도 시 에러 발생\n",
    "class Back_book:\n",
    "    def __init__(self, money):\n",
    "        self.__money = money\n",
    "    def deposit(self, plus):\n",
    "        print('입금 후 총 통장 금액은 {0}원 입니다.'.format(self.__money))\n",
    "\n",
    "nirsa = Back_book(100000) \n",
    "nirsa.__money += 50000 # private 속성을 외부에서 변경 시도 시 에러 발생"
   ]
  },
  {
   "cell_type": "code",
   "execution_count": 110,
   "id": "aa50d886-0dad-43a0-9223-5cefa612f6f0",
   "metadata": {},
   "outputs": [
    {
     "name": "stdout",
     "output_type": "stream",
     "text": [
      "0\n"
     ]
    }
   ],
   "source": [
    "# page 22:===========================================================\n",
    "class Rectangle:\n",
    "    count = 0 # class variable \n",
    "       \n",
    "    def __init__(self, width, height): # initializer\n",
    "    # self.* : instance variable, means an instance itself \n",
    "        self.width = width \n",
    "        self.height = height \n",
    "        Rectangle.count += 1 # way of calling class variable: [class name.class variable]\n",
    "    \n",
    "    def calcArea(self): # method\n",
    "        area = self.width * self.height # example of how to use \"self\"\n",
    "        return area\n",
    "        \n",
    "print(Rectangle.count)"
   ]
  },
  {
   "cell_type": "code",
   "execution_count": 111,
   "id": "2f3a2037",
   "metadata": {},
   "outputs": [
    {
     "name": "stdout",
     "output_type": "stream",
     "text": [
      "after eating, your weight will be: 62.1\n"
     ]
    }
   ],
   "source": [
    "# page 23:===========================================================\n",
    "class Human():\n",
    "    def create(name, weight): #person에 name, weight 값 설정 후 반환 함수\n",
    "        person = Human()\n",
    "        person.name = name\n",
    "        person.weight = weight\n",
    "        return person\n",
    "    def eat(self):\t\t# method\n",
    "        self.weight += 0.1\n",
    "        print('after eating, your weight will be:', self.weight)\n",
    "    def walk(self):\t    # method\n",
    "        self.weight -= 0.1\n",
    "        print('after walking your weight will be:', self.weight)\n",
    "\n",
    "Charles = Human.create(\"안철수\", 62)\n",
    "Charles.eat()\t\t# after walking your weight will be 62.1"
   ]
  },
  {
   "cell_type": "code",
   "execution_count": 112,
   "id": "3d132d6d",
   "metadata": {},
   "outputs": [
    {
     "name": "stdout",
     "output_type": "stream",
     "text": [
      "hong , 22\n",
      "hong , 22\n"
     ]
    }
   ],
   "source": [
    "# page 24:===========================================================\n",
    "class Test:\n",
    "    def __init__(self, name, age):\n",
    "        self.name = name\t# instance attribute\n",
    "        self.age = age \n",
    "    \n",
    "    # inside of method: self.method( )\n",
    "    def print_info(self):\t    # instance method\n",
    "        print(self.name, ',', self.age)   \n",
    "        \n",
    "    def test_func(self):\t\t# instance method\n",
    "        self.print_info( )      # inside of class: self.method( )\n",
    "\n",
    "test1 = Test('hong', 22)        # outside of class : instance.method( ) 형식\n",
    "test1.print_info()              # 결과값: hong, 22\n",
    "test1.test_func()               # 결과값: hong, 22"
   ]
  },
  {
   "cell_type": "code",
   "execution_count": 113,
   "id": "7b7b9e6f",
   "metadata": {},
   "outputs": [
    {
     "name": "stdout",
     "output_type": "stream",
     "text": [
      "25\n",
      "150\n"
     ]
    }
   ],
   "source": [
    "# page 25:===========================================================\n",
    "class Calc:\n",
    "    count = 10 \t\t\t# class attribute\n",
    "                        # no “self” parameter, \n",
    "    @staticmethod \t\t# not accessible to instance attributes \n",
    "    def add(a):\n",
    "        print(a + Calc.count) \t# class attributes can be accessible.\n",
    "\n",
    "    @staticmethod\n",
    "    def mul(a):\n",
    "        print(a * Calc.count)\n",
    "\n",
    "Calc.add(15) \t\t\t# result: 25 \n",
    "Calc.mul(15) \t\t\t# result: 150"
   ]
  },
  {
   "cell_type": "code",
   "execution_count": 115,
   "id": "134576f9",
   "metadata": {},
   "outputs": [
    {
     "name": "stdout",
     "output_type": "stream",
     "text": [
      "3 persons are created.\n",
      "<__main__.Person object at 0x000001467F6C0350>\n"
     ]
    }
   ],
   "source": [
    "# page 26:===========================================================\n",
    "class Person:\n",
    "    count = 0 \t\t# class attribute\n",
    "    def __init__(self):\n",
    "        Person.count += 1\n",
    "        \n",
    "    @classmethod\n",
    "    def print_count(cls): \t# class attribute can be accessible.\n",
    "        print('{0} persons are created.'.format(cls.count))\n",
    "        \n",
    "    @classmethod\n",
    "    def create(cls):   \t# create an instance of the current class with cls( )\n",
    "        p = cls() \t\t# 즉, cls() == Person()을 의미한다.\n",
    "        return p    \n",
    "        \n",
    "ryan = Person( )\n",
    "apeach = Person( )\n",
    "tommy = Person.create()\n",
    "\n",
    "Person.print_count( )   # result : 3 persons are created.\n",
    "print(Person.create( )) # <__main__.Person object at 0x0000024769200A60>"
   ]
  },
  {
   "cell_type": "code",
   "execution_count": 116,
   "id": "213a5ae1",
   "metadata": {},
   "outputs": [
    {
     "data": {
      "text/plain": [
       "4"
      ]
     },
     "execution_count": 116,
     "metadata": {},
     "output_type": "execute_result"
    }
   ],
   "source": [
    "Person.count"
   ]
  },
  {
   "cell_type": "code",
   "execution_count": 117,
   "id": "dc40e1f3",
   "metadata": {},
   "outputs": [
    {
     "data": {
      "text/plain": [
       "3"
      ]
     },
     "execution_count": 117,
     "metadata": {},
     "output_type": "execute_result"
    }
   ],
   "source": [
    "# page 27:===========================================================\n",
    "class Rectangle:\n",
    "    count = 0 \t\t# class variable  \n",
    "    def __init__(self, width, height): # initializer (and instance method)\n",
    "        self.width = width \n",
    "        self.height = height \n",
    "        Rectangle.count += 1 \t# way of calling class variable: [class name.class variable]\n",
    "    def calcArea(self): \t\t# instance method \n",
    "        area = self.width * self.height # example of how to use \"self\"\n",
    "        return area      \n",
    "    @staticmethod \t\t# static method\n",
    "    def isSquare(recWidth, recHeight):\n",
    "        return(recWidth == recHeight)\n",
    "    @classmethod \t\t# class method\n",
    "    def printCount(cls):\n",
    "        print(cls.count)\n",
    "square = Rectangle.isSquare(5,5) # testing\n",
    "rect1 = Rectangle(5, 5)\n",
    "rect2 = Rectangle(2, 5)\n",
    "rect3 = Rectangle(3, 5)\n",
    "Rectangle.count \t\t# result: 3"
   ]
  },
  {
   "cell_type": "code",
   "execution_count": 122,
   "id": "66b71c05",
   "metadata": {},
   "outputs": [
    {
     "name": "stdout",
     "output_type": "stream",
     "text": [
      "figure figure\n",
      "figure circle\n"
     ]
    }
   ],
   "source": [
    "# page 28:===========================================================\n",
    "class Figure: \t\t\t# This code is by class method\n",
    "    @classmethod\n",
    "    def set_name(cls, name):\n",
    "        cls.name = name\n",
    "class Circle(Figure): \t\t\t# Figure 클래스를 상속받음\n",
    "    pass\n",
    "Figure.set_name(\"figure\")\n",
    "print(Figure.name, Circle.name) \t\t# 결과값 : figure figure\n",
    "Circle.set_name(\"circle\")\n",
    "print(Figure.name, Circle.name) \t\t# 결과값 : figure circle"
   ]
  },
  {
   "cell_type": "code",
   "execution_count": 123,
   "id": "ffbbddee",
   "metadata": {},
   "outputs": [
    {
     "name": "stdout",
     "output_type": "stream",
     "text": [
      "figure figure\n",
      "circle circle\n"
     ]
    }
   ],
   "source": [
    "class Figure: \t\t\t# This code is by static method\n",
    "    @staticmethod\n",
    "    def set_name(name):\n",
    "        Figure.name = name\n",
    "class Circle(Figure): \t\t\t# Figure 클래스를 상속받음\n",
    "    pass\n",
    "Figure.set_name(\"figure\")\n",
    "print(Figure.name, Circle.name) \t\t# 결과값 : figure figure\n",
    "Circle.set_name(\"circle\")\n",
    "print(Figure.name, Circle.name) \t\t# 결과값 : circle circle"
   ]
  },
  {
   "cell_type": "code",
   "execution_count": 124,
   "id": "9e9aff31",
   "metadata": {},
   "outputs": [
    {
     "name": "stdout",
     "output_type": "stream",
     "text": [
      "area is:  12\n",
      "print by private method 12\n"
     ]
    }
   ],
   "source": [
    "# page 31:===========================================================\n",
    "class Rectangle:\n",
    "    def __init__(self, width, height):\n",
    "        self.width = width\n",
    "        self.height = height\n",
    "        self.__area = width * height     # private attribute “__area”\n",
    "    def __internalRun(self):\t\t     # private method “__internalRun(self)”\n",
    "        print(\"print by private method\", self.__area)\n",
    "    def area(self):\n",
    "        Rectangle.__internalRun(self)        \n",
    "rec=Rectangle(3,4)\n",
    "print(\"area is: \", rec.width*rec.height)\n",
    "Rectangle.area(rec)"
   ]
  },
  {
   "cell_type": "code",
   "execution_count": 125,
   "id": "ddb0f00f",
   "metadata": {},
   "outputs": [],
   "source": [
    "# page 32:===========================================================\n",
    "class Rectangle:\n",
    "    count = 0 \t\t\t\t# class attribute  \n",
    "\n",
    "    def __init__(self, width, height): \t# initializer (instance method)\n",
    "        self.width = width \n",
    "        self.height = height \n",
    "        Rectangle.count += 1 \t# way of calling class attribute\n",
    "\t\t\t\t# [class_name.class_attribute]\n",
    "    def calcArea(self): \t\t# instance method \n",
    "        area = self.width * self.height # example of how to use \"self\"\n",
    "        return area "
   ]
  },
  {
   "cell_type": "code",
   "execution_count": 126,
   "id": "7ad90cb6",
   "metadata": {},
   "outputs": [
    {
     "name": "stdout",
     "output_type": "stream",
     "text": [
      "area = 6\n",
      "width =  10\n",
      "1\n",
      "1\n"
     ]
    }
   ],
   "source": [
    "# page 33:===========================================================      \n",
    "# create an instance\n",
    "r1 = Rectangle(2, 3)\n",
    "\n",
    "# execute method\n",
    "area = r1.calcArea()\n",
    "print(\"area =\", area)\n",
    "\n",
    "# accessing instance variable\n",
    "r1.width = 10\n",
    "print(\"width = \", r1.width)\n",
    "\n",
    "# accessing class variable\n",
    "print(Rectangle.count) \t# correct\n",
    "print(r1.count)         # semantically not right, but confusing syntax"
   ]
  },
  {
   "cell_type": "code",
   "execution_count": 127,
   "id": "396881ed",
   "metadata": {},
   "outputs": [
    {
     "name": "stdout",
     "output_type": "stream",
     "text": [
      "area = 20\n",
      "width =  10\n",
      "50\n",
      "2\n",
      "2\n"
     ]
    }
   ],
   "source": [
    "# page 34:=========================================================== \n",
    "# create an instance\n",
    "r2 = Rectangle(4, 5)\n",
    "\n",
    "# excute method\n",
    "area = r2.calcArea()\n",
    "print(\"area =\", area)\t     # area = 20\n",
    "\n",
    "# accessing instance variable\n",
    "r2.width = 10\n",
    "print(\"width = \", r2.width)  # width =  10\n",
    "print(r2.calcArea())\t     # 50\n",
    "\n",
    "# accessing class variable\n",
    "print(Rectangle.count)       # correct 2\n",
    "print(r2.count)         \t # semantically not right, but confusing syntax"
   ]
  },
  {
   "cell_type": "code",
   "execution_count": 128,
   "id": "cc1e61df",
   "metadata": {},
   "outputs": [
    {
     "name": "stdout",
     "output_type": "stream",
     "text": [
      "10 3\n",
      "4\n",
      "77 77\n",
      "23 78 78 78\n"
     ]
    }
   ],
   "source": [
    "# page 35:===========================================================\n",
    "r3 = Rectangle(6, 7)\t\t      # 3 번째 instance 생성\n",
    "r3.count = 10\t\t\t          # count 인스턴스 변수가 새로 생성됨\n",
    "print(r3.count, Rectangle.count)  # 10  3 출력\n",
    "\n",
    "r4 = Rectangle(6, 7)\t\t      # 4번째 instance 생성 \n",
    "print(Rectangle.count)  \t      # 4\n",
    "Rectangle.count = 77\n",
    "\n",
    "r4.cnt = 23 \t\t\t          # create a new instance variable r4.cnt\n",
    "print(r4.count, Rectangle.count) # 77, 77\n",
    "\n",
    "r5 = Rectangle(7, 8)\n",
    "print(r4.cnt, r4.count, r5.count, Rectangle.count) # 23, 78, 78, 78"
   ]
  },
  {
   "cell_type": "code",
   "execution_count": 129,
   "id": "6365b12d",
   "metadata": {},
   "outputs": [
    {
     "name": "stdout",
     "output_type": "stream",
     "text": [
      "10 50\n",
      "20 60\n",
      "<__main__.createObject object at 0x000001467F83B450>\n"
     ]
    }
   ],
   "source": [
    "# page 36:===========================================================\n",
    "r6 = Rectangle(2, 3) \n",
    "Rectangle.count = 50 \n",
    "r6.count = 10 \t\t\t # instance attribute “count”가 새로 생성됨 \n",
    "print(r6.count, Rectangle.count) # 10 50 출력\n",
    "\n",
    "r7 = Rectangle(6, 4) \n",
    "Rectangle.count = 60\n",
    "r7.count = 20 \t\t\t # instance attribute “count”가 새로 생성됨 \n",
    "print(r7.count, Rectangle.count) # 20 60 출력\n",
    "\n",
    "class createObject(object):\n",
    "    pass\n",
    "my_object = createObject()\n",
    "\n",
    "print(my_object)        # <__main__.createObject object at 0x00000155EF782F40"
   ]
  },
  {
   "cell_type": "code",
   "execution_count": 130,
   "id": "49720937-808e-484b-bfb8-cad290a28408",
   "metadata": {},
   "outputs": [],
   "source": [
    "# page 37:==========================================================="
   ]
  },
  {
   "cell_type": "code",
   "execution_count": 131,
   "id": "9dec4061",
   "metadata": {},
   "outputs": [],
   "source": [
    "# page 38:===========================================================\n",
    "class Animal:\n",
    "    def __init__(self, name):\n",
    "        self.name = name\n",
    "    def move(self):\n",
    "        print(\"move\")\n",
    "    def speak(self):\n",
    "        pass\n",
    "# method overriding: 상위 class의 method를 subclass에서 재정의\n",
    "class Dog (Animal):\n",
    "    def speak(self):\n",
    "        print(\"bark\")\n",
    "class Duck (Animal):\n",
    "    def speak(self):\n",
    "        print(\"quack\")"
   ]
  },
  {
   "cell_type": "code",
   "execution_count": 132,
   "id": "ce5ab3b4",
   "metadata": {},
   "outputs": [
    {
     "name": "stdout",
     "output_type": "stream",
     "text": [
      "move\n",
      "bark\n",
      "bark\n",
      "quack\n"
     ]
    }
   ],
   "source": [
    "# page 39:==========================================================    \n",
    "dog = Dog(\"doggy\") \t# parent class 의 instance\n",
    "n = dog.name \t\t# parent class의 instance attribute\n",
    "dog.move()   \t\t# parent class 의 method, result: move\n",
    "dog.speak()  \t\t# subclass의 member, result: bark\n",
    "\n",
    "animals = [Dog('doggy'), Duck('duck')]\n",
    "for a in animals:\n",
    "    a.speak()\t\t# bark, quack"
   ]
  },
  {
   "cell_type": "code",
   "execution_count": 133,
   "id": "675bd5d2",
   "metadata": {},
   "outputs": [
    {
     "name": "stdout",
     "output_type": "stream",
     "text": [
      "10 5\n",
      "20 15\n",
      "30 20\n"
     ]
    }
   ],
   "source": [
    "# page 40:========================================================== \n",
    "def __add__(self, other):\n",
    "    obj = Rectangle(self.width + other.width, self.height + other.height)\n",
    "    return obj\n",
    " \n",
    "# 사용 예\n",
    "r8 = Rectangle(10, 5)\n",
    "r9 = Rectangle(20, 15)\n",
    "\n",
    "# r10 = r8 + r9\n",
    "r10 = __add__(r8, r9)  # __add__( )가 호출됨\n",
    "\n",
    "print(r8.width, r8.height)\t# 10, 5\n",
    "print(r9.width, r9.height)\t# 20, 15\n",
    "print(r10.width, r10.height)\t# 30, 20"
   ]
  },
  {
   "cell_type": "code",
   "execution_count": 134,
   "id": "0faa8efc-4294-4de9-a225-594377534f3c",
   "metadata": {},
   "outputs": [
    {
     "name": "stdout",
     "output_type": "stream",
     "text": [
      "<class 'int'>\n"
     ]
    }
   ],
   "source": [
    "# 기본형 \n",
    "print(int) "
   ]
  },
  {
   "cell_type": "code",
   "execution_count": 135,
   "id": "d48e5312-59eb-4eeb-8384-f5cf26aad6bf",
   "metadata": {},
   "outputs": [
    {
     "name": "stdout",
     "output_type": "stream",
     "text": [
      "<class 'float'>\n"
     ]
    }
   ],
   "source": [
    "print(float) "
   ]
  },
  {
   "cell_type": "code",
   "execution_count": 137,
   "id": "7c4752c0-3883-40ef-b20a-f8a473ddc844",
   "metadata": {},
   "outputs": [
    {
     "name": "stdout",
     "output_type": "stream",
     "text": [
      "['__abs__', '__add__', '__and__', '__bool__', '__ceil__', '__class__', '__delattr__', '__dir__', '__divmod__', '__doc__', '__eq__', '__float__', '__floor__', '__floordiv__', '__format__', '__ge__', '__getattribute__', '__getnewargs__', '__getstate__', '__gt__', '__hash__', '__index__', '__init__', '__init_subclass__', '__int__', '__invert__', '__le__', '__lshift__', '__lt__', '__mod__', '__mul__', '__ne__', '__neg__', '__new__', '__or__', '__pos__', '__pow__', '__radd__', '__rand__', '__rdivmod__', '__reduce__', '__reduce_ex__', '__repr__', '__rfloordiv__', '__rlshift__', '__rmod__', '__rmul__', '__ror__', '__round__', '__rpow__', '__rrshift__', '__rshift__', '__rsub__', '__rtruediv__', '__rxor__', '__setattr__', '__sizeof__', '__str__', '__sub__', '__subclasshook__', '__truediv__', '__trunc__', '__xor__', 'as_integer_ratio', 'bit_count', 'bit_length', 'conjugate', 'denominator', 'from_bytes', 'imag', 'numerator', 'real', 'to_bytes']\n"
     ]
    }
   ],
   "source": [
    "# 모든 속성 및 메소드 출력 \n",
    "print(dir(int))"
   ]
  },
  {
   "cell_type": "code",
   "execution_count": 138,
   "id": "f568c19d",
   "metadata": {},
   "outputs": [],
   "source": [
    "# page 41:==========================================================\n",
    "class Car:\n",
    "    speed = 0\n",
    "    def upSpeed(self, value):\n",
    "        self.speed += value\n",
    "        print (\"현재 속(superclass) : %d\" %self.speed)\n",
    "\n",
    "class Sedan(Car):\n",
    "    def upSpeed(self, value):\n",
    "        self.speed += value\n",
    "        if self.speed > 150:\n",
    "            self.speed = 150\n",
    "        print (\"현재 속도(subclass) : %d\" %self.speed)\n",
    "\n",
    "class Truck(Car):\n",
    "    pass"
   ]
  },
  {
   "cell_type": "code",
   "execution_count": 139,
   "id": "87388811",
   "metadata": {},
   "outputs": [
    {
     "name": "stdout",
     "output_type": "stream",
     "text": [
      "트럭-->현재 속(superclass) : 200\n",
      "승용차-->현재 속도(subclass) : 150\n"
     ]
    }
   ],
   "source": [
    "# 변수 선언 부분\n",
    "sedan1, truck1 = None, None\n",
    "\n",
    "# main code\n",
    "truck1 = Truck( )\n",
    "sedan1 = Sedan( )\n",
    "\n",
    "print(\"트럭-->\", end =\"\") # 트럭-->현재 속도(superclass) : 200\n",
    "truck1.upSpeed(200)\n",
    "\n",
    "print(\"승용차-->\", end =\"\") # 승용차-->현재 속도(subclass) : 150\n",
    "sedan1.upSpeed(200)"
   ]
  },
  {
   "cell_type": "code",
   "execution_count": 140,
   "id": "32a01e2c",
   "metadata": {},
   "outputs": [
    {
     "name": "stdout",
     "output_type": "stream",
     "text": [
      "execute the method of superclass\n",
      "execute the method of subclass\n",
      "value of superclass\n"
     ]
    }
   ],
   "source": [
    "# page 42:==========================================================\n",
    "class Car:\n",
    "    value = 'value of superclass'\n",
    "    def carMethod(self):\n",
    "        print('execute the method of superclass') \n",
    "        \n",
    "class Sedan(Car):\n",
    "    value = 'value of subclass'\n",
    "    def carMethod(self):\n",
    "        super().carMethod() # Car class의 carMethod 실행\n",
    "        print('execute the method of subclass')\n",
    "        print(super().value) # Car class의 value가 출력됨\n",
    "        \n",
    "sedan1=Sedan( )\n",
    "sedan1.carMethod( )"
   ]
  },
  {
   "cell_type": "code",
   "execution_count": 141,
   "id": "c9821ae4",
   "metadata": {},
   "outputs": [],
   "source": [
    "# page 45:==========================================================\n",
    "## declare class##\n",
    "import time\n",
    "class RacingCar :\n",
    "    carName = ''\n",
    "    def  __init__(self, name) :\n",
    "        self.carName = name\n",
    "\n",
    "    def runCar(self) :\n",
    "        for _ in range(0, 3) :\n",
    "            carStr = self.carName + '~~ 달립니다.\\n'\n",
    "            print(carStr, end = '')\n",
    "            time.sleep(0.1) # 0.1초 멈춤\n",
    "\n",
    "## main part##\n",
    "car1 = RacingCar('@자동차1')\n",
    "car2 = RacingCar('#자동차2')\n",
    "car3 = RacingCar('$자동차3')"
   ]
  },
  {
   "cell_type": "code",
   "execution_count": 142,
   "id": "a23b4ab2-494f-41b4-bd03-eabbd4e56762",
   "metadata": {},
   "outputs": [
    {
     "name": "stdout",
     "output_type": "stream",
     "text": [
      "@자동차1~~ 달립니다.\n",
      "@자동차1~~ 달립니다.\n",
      "@자동차1~~ 달립니다.\n",
      "#자동차2~~ 달립니다.\n",
      "#자동차2~~ 달립니다.\n",
      "#자동차2~~ 달립니다.\n",
      "$자동차3~~ 달립니다.\n",
      "$자동차3~~ 달립니다.\n",
      "$자동차3~~ 달립니다.\n"
     ]
    }
   ],
   "source": [
    "car1.runCar()\n",
    "car2.runCar()\n",
    "car3.runCar()"
   ]
  },
  {
   "cell_type": "code",
   "execution_count": 149,
   "id": "2682d5a7",
   "metadata": {},
   "outputs": [],
   "source": [
    "# page 46:==========================================================\n",
    "import threading\n",
    "import time\n",
    "class RunningHorse :\n",
    "    horseName = ''\n",
    "    def  __init__(self, name) :\n",
    "        self.horseName = name\n",
    "    def runHorse(self) :\n",
    "        for _ in range(0, 3) :\n",
    "            print(self.horseName)\n",
    "            time.sleep(0.1)\n",
    "horse1 = RunningHorse('@얼룩말')\n",
    "horse2 = RunningHorse('#조랑말')\n",
    "thread1 = threading.Thread(target = horse1.runHorse)\n",
    "thread2 = threading.Thread(target = horse2.runHorse)"
   ]
  },
  {
   "cell_type": "code",
   "execution_count": 150,
   "id": "de4afa66-7863-4e22-9264-0f9c63d03bc8",
   "metadata": {},
   "outputs": [
    {
     "name": "stdout",
     "output_type": "stream",
     "text": [
      "@얼룩말\n",
      "#조랑말\n",
      "@얼룩말\n",
      "#조랑말\n",
      "@얼룩말\n",
      "#조랑말\n"
     ]
    }
   ],
   "source": [
    "thread1.start()\n",
    "thread2.start()"
   ]
  },
  {
   "cell_type": "code",
   "execution_count": null,
   "id": "42b096ea",
   "metadata": {},
   "outputs": [],
   "source": []
  },
  {
   "cell_type": "code",
   "execution_count": null,
   "id": "53da208c",
   "metadata": {},
   "outputs": [],
   "source": []
  }
 ],
 "metadata": {
  "kernelspec": {
   "display_name": "Python 3 (ipykernel)",
   "language": "python",
   "name": "python3"
  },
  "language_info": {
   "codemirror_mode": {
    "name": "ipython",
    "version": 3
   },
   "file_extension": ".py",
   "mimetype": "text/x-python",
   "name": "python",
   "nbconvert_exporter": "python",
   "pygments_lexer": "ipython3",
   "version": "3.11.8"
  }
 },
 "nbformat": 4,
 "nbformat_minor": 5
}
